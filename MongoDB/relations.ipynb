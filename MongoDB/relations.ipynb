{
 "cells": [
  {
   "cell_type": "code",
   "execution_count": 2,
   "metadata": {},
   "outputs": [],
   "source": [
    "import pymongo\n",
    "client = pymongo.MongoClient(\"mongodb://localhost:27017\")\n",
    "\n",
    "\n",
    "db = client[\"relation_db\"]\n",
    "collection = db[\"users\"]"
   ]
  },
  {
   "cell_type": "code",
   "execution_count": null,
   "metadata": {},
   "outputs": [],
   "source": [
    "collection.insert_many([\n",
    "    {'name':'muzammil','phone':3147788844,'age':22,'email':'muzammil@jagahonline.com'},\n",
    "    {'name':'osama','phone':3451188444,'age':45,'email':'osama@gmail.com'},\n",
    "    {'name':'huzaifa','phone':4842115544,'age':20,'email':'huzaifa@gmail.com'},\n",
    "    {'name':'hamza','phone':7884455444,'age':25,'email':'hamza@gmail.com'},\n",
    "    {'name':'bilal','phone':9784455111,'age':27,'email':'bilal@gmail.com'},\n",
    "    {'name':'haneef','phone':8842255444,'age':36,'email':'haneef@gmail.com'}\n",
    "])\n"
   ]
  },
  {
   "cell_type": "code",
   "execution_count": 12,
   "metadata": {},
   "outputs": [],
   "source": [
    "from bson import ObjectId\n",
    "contact_collection = db['contact']"
   ]
  },
  {
   "cell_type": "code",
   "execution_count": 13,
   "metadata": {},
   "outputs": [
    {
     "data": {
      "text/plain": [
       "<pymongo.results.InsertManyResult at 0x1be922b6100>"
      ]
     },
     "execution_count": 13,
     "metadata": {},
     "output_type": "execute_result"
    }
   ],
   "source": [
    "contact_collection.insert_many([\n",
    "    {'name':'Noman','phone_1':7841544888,'address':\"street 11/6\",'city':'Islamabad', 'user_id':ObjectId(\"644b781f000dfe262b51385f\")},\n",
    "    {'name':'Ehsan','phone_1':1447744777,'address':\"street 77/2\",'city':'Dadu', 'user_id':ObjectId(\"644b781f000dfe262b51385f\")},\n",
    "    \n",
    "])"
   ]
  },
  {
   "cell_type": "code",
   "execution_count": 25,
   "metadata": {},
   "outputs": [],
   "source": [
    "result = contact_collection.aggregate([\n",
    "    {\n",
    "        '$lookup': {\n",
    "            'from': 'users',\n",
    "            'localField': 'user_id',\n",
    "            'foreignField': '_id',\n",
    "            'as': 'user'\n",
    "        }\n",
    "    }\n",
    "])"
   ]
  },
  {
   "cell_type": "code",
   "execution_count": 26,
   "metadata": {},
   "outputs": [
    {
     "name": "stdout",
     "output_type": "stream",
     "text": [
      "{'_id': ObjectId('644ba1c63a059a47bd8347cc'), 'name': 'Noman', 'phone_1': 7841544888, 'address': 'street 11/6', 'city': 'Islamabad', 'user_id': ObjectId('644b781f000dfe262b51385f'), 'user': [{'_id': ObjectId('644b781f000dfe262b51385f'), 'name': 'osama', 'phone': 3451188444, 'age': 45, 'email': 'osama@gmail.com'}]}\n",
      "{'_id': ObjectId('644ba1c63a059a47bd8347cd'), 'name': 'Ehsan', 'phone_1': 1447744777, 'address': 'street 77/2', 'city': 'Dadu', 'user_id': ObjectId('644b781f000dfe262b51385f'), 'user': [{'_id': ObjectId('644b781f000dfe262b51385f'), 'name': 'osama', 'phone': 3451188444, 'age': 45, 'email': 'osama@gmail.com'}]}\n"
     ]
    }
   ],
   "source": [
    "for i in result:\n",
    "    print(i)\n",
    "    "
   ]
  },
  {
   "cell_type": "code",
   "execution_count": 29,
   "metadata": {},
   "outputs": [],
   "source": [
    "lead_connection = db['lead']\n"
   ]
  },
  {
   "cell_type": "code",
   "execution_count": 30,
   "metadata": {},
   "outputs": [
    {
     "data": {
      "text/plain": [
       "<pymongo.results.InsertManyResult at 0x1be92319ac0>"
      ]
     },
     "execution_count": 30,
     "metadata": {},
     "output_type": "execute_result"
    }
   ],
   "source": [
    "lead_connection.insert_many([\n",
    "    {\"project\":'Kings Comfort','name':'khalil','budget':10000,\"total_budget\":200000,'invesment_type':'Resident','contact_id':ObjectId('644ba1c63a059a47bd8347cc')},\n",
    "    {\"project\":'Al Ahmed','name':'Adnan','budget':33333,\"total_budget\":3322222,'invesment_type':'Shop','contact_id':ObjectId('644ba1c63a059a47bd8347cc')},\n",
    "    {\"project\":'DHA','name':'Usman','budget':77777,\"total_budget\":999999,'invesment_type':'Resident','contact_id':ObjectId('644ba1c63a059a47bd8347cd')},\n",
    "    {\"project\":'Behria','name':'Zeeshan','budget':314444,\"total_budget\":13333333,'invesment_type':'Resident','contact_id':ObjectId('644ba1c63a059a47bd8347cd')},\n",
    "])"
   ]
  },
  {
   "cell_type": "code",
   "execution_count": null,
   "metadata": {},
   "outputs": [],
   "source": []
  },
  {
   "cell_type": "code",
   "execution_count": 63,
   "metadata": {},
   "outputs": [],
   "source": [
    "result = lead_connection.aggregate([\n",
    "    {\n",
    "        '$lookup': {\n",
    "            'from': 'contact',\n",
    "            'localField': 'contact_id',\n",
    "            'foreignField': '_id',\n",
    "            'as': 'contact'\n",
    "        }\n",
    "\n",
    "    },\n",
    "    {\n",
    "        '$lookup': {\n",
    "            'from': 'users',\n",
    "            'localField': 'contact.user_id',\n",
    "            'foreignField': '_id',\n",
    "            'as': 'user'\n",
    "        }\n",
    "    }\n",
    "])\n"
   ]
  },
  {
   "cell_type": "code",
   "execution_count": 64,
   "metadata": {},
   "outputs": [
    {
     "data": {
      "text/plain": [
       "[{'_id': ObjectId('644cb0433a059a47bd8347ce'),\n",
       "  'project': 'Kings Comfort',\n",
       "  'name': 'khalil',\n",
       "  'budget': 10000,\n",
       "  'total_budget': 200000,\n",
       "  'invesment_type': 'Resident',\n",
       "  'contact_id': ObjectId('644ba1c63a059a47bd8347cc'),\n",
       "  'contact': [{'_id': ObjectId('644ba1c63a059a47bd8347cc'),\n",
       "    'name': 'Noman',\n",
       "    'phone_1': 7841544888,\n",
       "    'address': 'street 11/6',\n",
       "    'city': 'Islamabad',\n",
       "    'user_id': ObjectId('644b781f000dfe262b51385f')}],\n",
       "  'user': [{'_id': ObjectId('644b781f000dfe262b51385f'),\n",
       "    'name': 'osama',\n",
       "    'phone': 3451188444,\n",
       "    'age': 45,\n",
       "    'email': 'osama@gmail.com'}]},\n",
       " {'_id': ObjectId('644cb0433a059a47bd8347cf'),\n",
       "  'project': 'Al Ahmed',\n",
       "  'name': 'Adnan',\n",
       "  'budget': 33333,\n",
       "  'total_budget': 3322222,\n",
       "  'invesment_type': 'Shop',\n",
       "  'contact_id': ObjectId('644ba1c63a059a47bd8347cc'),\n",
       "  'contact': [{'_id': ObjectId('644ba1c63a059a47bd8347cc'),\n",
       "    'name': 'Noman',\n",
       "    'phone_1': 7841544888,\n",
       "    'address': 'street 11/6',\n",
       "    'city': 'Islamabad',\n",
       "    'user_id': ObjectId('644b781f000dfe262b51385f')}],\n",
       "  'user': [{'_id': ObjectId('644b781f000dfe262b51385f'),\n",
       "    'name': 'osama',\n",
       "    'phone': 3451188444,\n",
       "    'age': 45,\n",
       "    'email': 'osama@gmail.com'}]},\n",
       " {'_id': ObjectId('644cb0433a059a47bd8347d0'),\n",
       "  'project': 'DHA',\n",
       "  'name': 'Usman',\n",
       "  'budget': 77777,\n",
       "  'total_budget': 999999,\n",
       "  'invesment_type': 'Resident',\n",
       "  'contact_id': ObjectId('644ba1c63a059a47bd8347cd'),\n",
       "  'contact': [{'_id': ObjectId('644ba1c63a059a47bd8347cd'),\n",
       "    'name': 'Ehsan',\n",
       "    'phone_1': 1447744777,\n",
       "    'address': 'street 77/2',\n",
       "    'city': 'Dadu',\n",
       "    'user_id': ObjectId('644b781f000dfe262b51385f')}],\n",
       "  'user': [{'_id': ObjectId('644b781f000dfe262b51385f'),\n",
       "    'name': 'osama',\n",
       "    'phone': 3451188444,\n",
       "    'age': 45,\n",
       "    'email': 'osama@gmail.com'}]},\n",
       " {'_id': ObjectId('644cb0433a059a47bd8347d1'),\n",
       "  'project': 'Behria',\n",
       "  'name': 'Zeeshan',\n",
       "  'budget': 314444,\n",
       "  'total_budget': 13333333,\n",
       "  'invesment_type': 'Resident',\n",
       "  'contact_id': ObjectId('644ba1c63a059a47bd8347cd'),\n",
       "  'contact': [{'_id': ObjectId('644ba1c63a059a47bd8347cd'),\n",
       "    'name': 'Ehsan',\n",
       "    'phone_1': 1447744777,\n",
       "    'address': 'street 77/2',\n",
       "    'city': 'Dadu',\n",
       "    'user_id': ObjectId('644b781f000dfe262b51385f')}],\n",
       "  'user': [{'_id': ObjectId('644b781f000dfe262b51385f'),\n",
       "    'name': 'osama',\n",
       "    'phone': 3451188444,\n",
       "    'age': 45,\n",
       "    'email': 'osama@gmail.com'}]}]"
      ]
     },
     "execution_count": 64,
     "metadata": {},
     "output_type": "execute_result"
    }
   ],
   "source": [
    "result_list = list(result)\n",
    "result_list"
   ]
  },
  {
   "cell_type": "code",
   "execution_count": 57,
   "metadata": {},
   "outputs": [],
   "source": []
  },
  {
   "cell_type": "code",
   "execution_count": 143,
   "metadata": {},
   "outputs": [
    {
     "name": "stdout",
     "output_type": "stream",
     "text": [
      "{'_id': ObjectId('644cb0433a059a47bd8347ce'), 'project': 'Kings Comfort', 'name': 'khalil', 'budget': 10000, 'total_budget': 200000, 'invesment_type': 'Resident', 'contact_id': ObjectId('644ba1c63a059a47bd8347cc'), 'contact': [{'_id': ObjectId('644ba1c63a059a47bd8347cc'), 'name': 'Noman', 'phone_1': 7841544888, 'address': 'street 11/6', 'city': 'Islamabad', 'user_id': ObjectId('644b781f000dfe262b51385f')}], 'user': [{'_id': ObjectId('644b781f000dfe262b51385f'), 'name': 'osama', 'phone': 3451188444, 'age': 45, 'email': 'osama@gmail.com'}]}\n",
      "{'_id': ObjectId('644cb0433a059a47bd8347cf'), 'project': 'Al Ahmed', 'name': 'Adnan', 'budget': 33333, 'total_budget': 3322222, 'invesment_type': 'Shop', 'contact_id': ObjectId('644ba1c63a059a47bd8347cc'), 'contact': [{'_id': ObjectId('644ba1c63a059a47bd8347cc'), 'name': 'Noman', 'phone_1': 7841544888, 'address': 'street 11/6', 'city': 'Islamabad', 'user_id': ObjectId('644b781f000dfe262b51385f')}], 'user': [{'_id': ObjectId('644b781f000dfe262b51385f'), 'name': 'osama', 'phone': 3451188444, 'age': 45, 'email': 'osama@gmail.com'}]}\n",
      "{'_id': ObjectId('644cb0433a059a47bd8347d0'), 'project': 'DHA', 'name': 'Usman', 'budget': 77777, 'total_budget': 999999, 'invesment_type': 'Resident', 'contact_id': ObjectId('644ba1c63a059a47bd8347cd'), 'contact': [{'_id': ObjectId('644ba1c63a059a47bd8347cd'), 'name': 'Ehsan', 'phone_1': 1447744777, 'address': 'street 77/2', 'city': 'Dadu', 'user_id': ObjectId('644b781f000dfe262b51385f')}], 'user': [{'_id': ObjectId('644b781f000dfe262b51385f'), 'name': 'osama', 'phone': 3451188444, 'age': 45, 'email': 'osama@gmail.com'}]}\n",
      "{'_id': ObjectId('644cb0433a059a47bd8347d1'), 'project': 'Behria', 'name': 'Zeeshan', 'budget': 314444, 'total_budget': 13333333, 'invesment_type': 'Resident', 'contact_id': ObjectId('644ba1c63a059a47bd8347cd'), 'contact': [{'_id': ObjectId('644ba1c63a059a47bd8347cd'), 'name': 'Ehsan', 'phone_1': 1447744777, 'address': 'street 77/2', 'city': 'Dadu', 'user_id': ObjectId('644b781f000dfe262b51385f')}], 'user': [{'_id': ObjectId('644b781f000dfe262b51385f'), 'name': 'osama', 'phone': 3451188444, 'age': 45, 'email': 'osama@gmail.com'}]}\n"
     ]
    }
   ],
   "source": [
    "for i in result_list:\n",
    "    print(i)"
   ]
  },
  {
   "cell_type": "code",
   "execution_count": null,
   "metadata": {},
   "outputs": [],
   "source": []
  },
  {
   "cell_type": "code",
   "execution_count": null,
   "metadata": {},
   "outputs": [],
   "source": []
  },
  {
   "cell_type": "code",
   "execution_count": 72,
   "metadata": {},
   "outputs": [],
   "source": []
  },
  {
   "cell_type": "code",
   "execution_count": 169,
   "metadata": {},
   "outputs": [],
   "source": [
    "result_condition = lead_connection.aggregate([\n",
    "    \n",
    "    {\n",
    "        '$lookup': {\n",
    "            'from': 'contact',\n",
    "            'localField': 'contact_id',\n",
    "            'foreignField': '_id',\n",
    "            'as': 'contact'\n",
    "        }\n",
    "\n",
    "    },\n",
    "    {\n",
    "        '$lookup': {\n",
    "            'from': 'users',\n",
    "            'localField': 'contact.user_id',\n",
    "            'foreignField': '_id',\n",
    "            'as': 'user'\n",
    "        }\n",
    "    },\n",
    "    # {\n",
    "    #         \"$match\": {\n",
    "    #             \"user.age\": {\n",
    "    #                 \"$gt\": 18\n",
    "    #             },\n",
    "    #             'invesment_type': 'Shop'\n",
    "                \n",
    "    #         }\n",
    "    #     },\n",
    "\n",
    "        { \n",
    "        \"$group\": {\n",
    "            \"_id\": \"$_id\",\n",
    "            # 'user_names': {'$addToSet': '$user.name'} \n",
    "            \"user_name\": { \"$first\": \"$user.name\" }\n",
    "               \n",
    "        }\n",
    "        }\n",
    "    \n",
    "\n",
    "])"
   ]
  },
  {
   "cell_type": "code",
   "execution_count": 170,
   "metadata": {},
   "outputs": [
    {
     "name": "stdout",
     "output_type": "stream",
     "text": [
      "{'_id': ObjectId('644cb0433a059a47bd8347cf'), 'user_name': ['osama']}\n",
      "{'_id': ObjectId('644cb0433a059a47bd8347d1'), 'user_name': ['muzammil']}\n",
      "{'_id': ObjectId('644cb0433a059a47bd8347d0'), 'user_name': ['muzammil']}\n",
      "{'_id': ObjectId('644cb0433a059a47bd8347ce'), 'user_name': ['osama']}\n"
     ]
    }
   ],
   "source": [
    "for d in result_condition:\n",
    "    print(d)"
   ]
  },
  {
   "cell_type": "code",
   "execution_count": 101,
   "metadata": {},
   "outputs": [],
   "source": []
  },
  {
   "cell_type": "code",
   "execution_count": null,
   "metadata": {},
   "outputs": [],
   "source": []
  }
 ],
 "metadata": {
  "kernelspec": {
   "display_name": "base",
   "language": "python",
   "name": "python3"
  },
  "language_info": {
   "codemirror_mode": {
    "name": "ipython",
    "version": 3
   },
   "file_extension": ".py",
   "mimetype": "text/x-python",
   "name": "python",
   "nbconvert_exporter": "python",
   "pygments_lexer": "ipython3",
   "version": "3.9.7"
  },
  "orig_nbformat": 4
 },
 "nbformat": 4,
 "nbformat_minor": 2
}
